{
 "cells": [
  {
   "cell_type": "markdown",
   "metadata": {},
   "source": [
    "# UV file basics\n",
    "\n",
    "Raw data from HERA consists of `*.uv` files, which are a streaming file format common in radio astronomy. Behind the scenes, the file contains a cross-correlated visibility for each antenna pair at a specific time and frequency. There are several libraries for interacting with UV files, such as `aipy` and `pyuvdata`. We will spend most of this tutorial using the functionality built into `capo` to learn more about the raw data.\n",
    "\n",
    "## Using the Librarian\n",
    "LINK TO LIBRARIAN HERE... DOWNLOAD SAMPLE FILE (which is already on the laptops)\n",
    "\n",
    "## Basic file information\n",
    "`uv` files are actually directories that contain the raw data (`visdata`), largely in binary, and metadata (`flags`, `header`, `history`, and `vartable`). Libraries such as `capo` use this information to parse the files into something that we humans can understand."
   ]
  },
  {
   "cell_type": "markdown",
   "metadata": {},
   "source": [
    "# Lesson 1: Visualizing Raw Data\n",
    "Let's start by seeing what the raw data looks like, to understand what we're working with. The basic unit that we'll plot is a waterfall plot. This is a two-dimensional plot of the visibility (the cross-correlated signal between a pair of antennas) as a function of time and frequency. Let's learn how to extract this information.\n",
    "\n",
    "## Reading in the File\n",
    "The first step is to read in the file using our library (`aipy`, in this case). We make use of the `plot_uv.py` script. This script takes as an argument the name of the `.uv` file we want to plot. It also needs to know what pair of antennas we'd like to plot, which is done with the `-a` flag. Let's look at the waterfall for antennas 1 and 4. To do this, run the following command in a terminal. You'll have to run it in the same directory where the `.uv` file we downloaded from the Librarian is located.\n",
    "\n",
    "```\n",
    "$ plot_uv.py zen.2456680.29213.xx.uv -a 1_4 -p xx --cmap=viridis\n",
    "```\n",
    "Notice how there are several frequency channels that are bright yellow for all times. These are channels with heavy RFI contamination. We'll talk about how to remove this noise in a little bit.\n",
    "\n",
    "Also note some other useful `plot_uv.py` options:\n",
    " \n",
    " --drng = colorbar range\n",
    " \n",
    " --max = colorbar maximum value"
   ]
  },
  {
   "cell_type": "markdown",
   "metadata": {},
   "source": [
    " # Activity 1: Waterfall Plots\n",
    " \n",
    "In the previous activity, we plotted a waterfall using the plot_uv.py script. This implicitly handled the complicated business of processing the file and reading in the data. Now it's your turn. Please do the following:\n",
    "  - Start a new python script\n",
    "  - Use the following command from `capo` to read in the same datafile we used before\n",
    "  ```\n",
    "  t,d,f = capo.miriad.read_files(['zen.2456680.29213.xx.uv'],antstr='1_4',polstr='xx')\n",
    "  ```\n",
    "  - `d` is a dictionary containing the two-dimensional visibility data\n",
    "  - Use matplotlib to plot the data\n",
    "  - Confirm that the plot is the same as when we used `plot_uv.py`\n",
    "  - Next, make a similar plot for both a short baseline and long baseline\n",
    "  - Do this for both the amplitude and phase\n",
    "  - Question: What are the main differences between the plots for the short baseline and long baseline? Why? \n",
    "\n",
    "## Sample Solution"
   ]
  },
  {
   "cell_type": "code",
   "execution_count": 2,
   "metadata": {
    "collapsed": false
   },
   "outputs": [
    {
     "name": "stderr",
     "output_type": "stream",
     "text": [
      "/Users/carinacheng/anaconda2/lib/python2.7/site-packages/matplotlib/font_manager.py:280: UserWarning: Matplotlib is building the font cache using fc-list. This may take a moment.\n",
      "  'Matplotlib is building the font cache using fc-list. '\n"
     ]
    },
    {
     "ename": "ImportError",
     "evalue": "No module named capo",
     "output_type": "error",
     "traceback": [
      "\u001b[0;31m---------------------------------------------------------------------------\u001b[0m",
      "\u001b[0;31mImportError\u001b[0m                               Traceback (most recent call last)",
      "\u001b[0;32m<ipython-input-2-6d9bd211985a>\u001b[0m in \u001b[0;36m<module>\u001b[0;34m()\u001b[0m\n\u001b[1;32m      2\u001b[0m \u001b[0;32mimport\u001b[0m \u001b[0mmatplotlib\u001b[0m\u001b[0;34m.\u001b[0m\u001b[0mpyplot\u001b[0m \u001b[0;32mas\u001b[0m \u001b[0mplt\u001b[0m\u001b[0;34m\u001b[0m\u001b[0m\n\u001b[1;32m      3\u001b[0m \u001b[0;32mimport\u001b[0m \u001b[0mnumpy\u001b[0m \u001b[0;32mas\u001b[0m \u001b[0mnp\u001b[0m\u001b[0;34m\u001b[0m\u001b[0m\n\u001b[0;32m----> 4\u001b[0;31m \u001b[0;32mimport\u001b[0m \u001b[0mcapo\u001b[0m\u001b[0;34m\u001b[0m\u001b[0m\n\u001b[0m\u001b[1;32m      5\u001b[0m \u001b[0;32mimport\u001b[0m \u001b[0maipy\u001b[0m\u001b[0;34m\u001b[0m\u001b[0m\n\u001b[1;32m      6\u001b[0m \u001b[0;34m\u001b[0m\u001b[0m\n",
      "\u001b[0;31mImportError\u001b[0m: No module named capo"
     ]
    }
   ],
   "source": [
    "%matplotlib inline\n",
    "import matplotlib.pyplot as plt\n",
    "import numpy as np\n",
    "import capo\n",
    "import aipy\n",
    "\n",
    "# read in data file\n",
    "# define filename\n",
    "uvfile = '/Users/plaplant/Documents/school/penn/champ/zen.2456680.29213.xx.uv'\n",
    "\n",
    "# use capo to read in a specific baseline (antenna pair) and polarization\n",
    "# the return values are t (lsts), d (a dictionary of data), and f (flags)\n",
    "t, d, f = capo.miriad.read_files([uvfile],antstr='1_4',polstr='xx')\n",
    "\n",
    "# let's understand the data dictionary a little better\n",
    "print(d.keys())\n",
    "print(d[(1,4)].keys())\n",
    "\n",
    "# d is actually a dictionary of dictionaries indexed first by baseline\n",
    "#   and then by polarization\n",
    "# since in our capo call we only included one baseline and polarization,\n",
    "#   that's all that we have\n",
    "\n",
    "# bearing in mind that visibilities are, in general, complex, let's plot\n",
    "#   the real and imaginary values\n",
    "data = np.abs(d[(1,4)]['xx'])\n",
    "dreal = data.real\n",
    "dmax = dreal.max()\n",
    "dmin = dreal.min()\n",
    "plt.imshow(dreal,aspect='auto',vmax=dmax,\n",
    "           vmin=dmin,interpolation='nearest')\n",
    "plt.colorbar(shrink=0.5)\n",
    "plt.show()\n",
    "\n",
    "dimag = data.imag\n",
    "dmax = dimag.max()\n",
    "dmin = dimag.min()\n",
    "plt.imshow(dimag,aspect='auto',vmax=dmax,\n",
    "          vmin=dmin,interpolation='nearest')\n",
    "plt.colorbar(shrink=0.5)\n",
    "plt.show()\n",
    "\n",
    "# TODO: needs a little more fiddling to look like the plot_uv.py result\n",
    "# Also plot short and long baseline, both amplitude and phase\n",
    "# Write small paragraph listing main differences"
   ]
  },
  {
   "cell_type": "markdown",
   "metadata": {
    "collapsed": true
   },
   "source": [
    "# Lesson 2: Delay Transform\n",
    "\n",
    "Taking the delay transform of our data along frequency is a very important part of our analysis. Let's see why.\n",
    "\n",
    "```\n",
    "$ plot_uv.py zen.2456680.29213.xx.uv -a 1_4 -p xx -d --clean=1e-9\n",
    "```\n",
    "\n",
    "# Activity 2: Delay Transform Waterfall Plots\n",
    "\n",
    "Now it's your turn to code up the delay transform process, using the same script you worked on before. Please add the following to your script:\n",
    "\n",
    "  - Take the fourier transform of your data along the frequency axis\n",
    "  - Use matplotlib to plot waterfall plots of this data - does it match what we plotted before?\n",
    "  - Do this for a short baseline and long baseline - are the horizon limits where you expect?"
   ]
  },
  {
   "cell_type": "markdown",
   "metadata": {
    "collapsed": true
   },
   "source": [
    "# Lesson 3: Redundant Calibration\n",
    "\n",
    "Recall the equation for a visibility of baseline $ij$:\n",
    "\n",
    "$V(\\nu, t) = \\int {\\rm d\\Omega} \\, A(\\Omega,\\nu) \\, S(\\Omega, \\nu) \\, \\exp \\left( 2\\pi i \\nu \\vec{b}_{ij}\\cdot\\hat{s}/c \\right)$\n",
    "\n",
    "In reality, there are some extra _calibration parameters_ needed outside of the integral that make sure everything in an image is the correct flux and in the correct position:\n",
    "\n",
    "$V(\\nu, t) = g^*_i(\\nu, t)g^*_j(\\nu, t)\\int {\\rm d\\Omega} \\, A(\\Omega,\\nu) \\, S(\\Omega, \\nu) \\, \\exp \\left( 2\\pi i \\nu \\vec{b}_{ij}\\cdot\\hat{s}/c \\right)$\n",
    "\n",
    "Where the _g_ parameters are complex numbers that we call _complex gains_. Each _g_ parameter can be expressed as an amplitude and a phase:\n",
    "    \n",
    "$g(\\nu,t) = A(\\nu,t)e^{-i\\phi(\\nu,t)}$\n",
    "    \n",
    "(I'm being careful with my $(\\nu,t)$ dependencies because these numbers can potentially change for every frequency-time sample.)\n",
    "    \n",
    "This means that to calibrate our data, we need to determine a complex number for every antenna (and dipole arm) for every time and every frequency. This could be difficult to do precisely, but HERA's design makes things easier for us. HERA is _highly redundant_, meaning that for lots of antenna combinations, the same visibility should result (**See Antenna Layout Image and Visibility Equation**).\n",
    "    \n",
    "Let's check for ourselves:\n",
    "    \n",
    "**TASK 1**: plot two redundant visibilities with **THREE** antennae (baselines _ij_ and _jk_), side-by-side one another. Make 4 panels; absolute value and phase for both visibilities.\n",
    "    \n",
    "What's similar about these data? What's different?\n",
    "    \n",
    "**TASK 2**: take the ratio between the two amplitude panels, and the two phase panels. Do you get a ratio of 1?\n",
    "    \n",
    "... probably not! That's because we need to calibrate them -- and HERA's design let's us do this by redundant calibrating visiblities against each other, as opposed to making an image of the sky. \n",
    "    \n",
    "**TASK 3**: using the ratio plots, determine an amplitude and phase calibration $g_j(\\nu,t)$\n",
    "    \n",
    "**TASK 4**: Choose a different set of redundant baselines that contain the same antenna _j_ and repeat tasks 1 and 2. \n",
    "    \n",
    "Do you think you'll get the same result for $g_j(\\nu,t)$? Why/why not?"
   ]
  },
  {
   "cell_type": "code",
   "execution_count": 1,
   "metadata": {
    "collapsed": true
   },
   "outputs": [],
   "source": [
    "# Saul's example of all of the above"
   ]
  },
  {
   "cell_type": "markdown",
   "metadata": {},
   "source": [
    "# Omnical\n",
    "\n",
    "- system of equations,\n",
    "- logcal and lincal,\n",
    "- degeneracies -- gone from requiring a ton of numbers per sample to just 4\n",
    "- other?"
   ]
  },
  {
   "cell_type": "code",
   "execution_count": null,
   "metadata": {
    "collapsed": true
   },
   "outputs": [],
   "source": [
    "# Example heracal/omnical run and some plots"
   ]
  }
 ],
 "metadata": {
  "kernelspec": {
   "display_name": "Python 2",
   "language": "python",
   "name": "python2"
  },
  "language_info": {
   "codemirror_mode": {
    "name": "ipython",
    "version": 2
   },
   "file_extension": ".py",
   "mimetype": "text/x-python",
   "name": "python",
   "nbconvert_exporter": "python",
   "pygments_lexer": "ipython2",
   "version": "2.7.13"
  }
 },
 "nbformat": 4,
 "nbformat_minor": 2
}

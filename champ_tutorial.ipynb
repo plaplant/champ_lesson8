{
 "cells": [
  {
   "cell_type": "markdown",
   "metadata": {},
   "source": [
    "# UV file basics\n",
    "\n",
    "Raw data from HERA consists of `*.uv` files, which are a \"streaming\" file format common in radio astronomy. Behind the scenes, the file contains a cross-correlated visibility for each antenna pair at a specific time and frequency. There are several libraries for interacting with UV files, such as `aipy` and `pyuvdata`. We will spend most of this tutorial using the functionality built into `capo` to learn more about the raw data.\n",
    "\n",
    "## Basic file information\n",
    "`uv` \"files\" are actually directories that contain the raw data (`visdata`), largely in binary, and metadata (`flags`, `header`, `history`, and `vartable`). Libraries such as `capo` use this information to parse the files into something that we humans can understand."
   ]
  },
  {
   "cell_type": "markdown",
   "metadata": {},
   "source": [
    "# Activity 1: Visualize Raw Data\n",
    "Let's start by seeing what the raw data looks like, to understand what we're working with. The basic \"unit\" that we'll plot is a \"waterfall\" plot. This is a two-dimensional plot of the visibility (the cross-correlated signal between a pair of antennas) as a function of time and frequency. Let's learn how to extract this information.\n",
    "\n",
    "## Reading in the File\n",
    "The first step is to read in the file using our library (`aipy`, in this case). We make use of the `plot_uv.py` script. This script takes as an argument the name of the `.uv` file we want to plot. It also needs to know what pair of antennas we'd like to plot, which is done with the `-a` flag. Let's look at the waterfall for antennas 1 and 4. To do this, run the following command in a terminal. You'll have to run it in the same directory where the `.uv` file we downloaded from the Librarian is located.\n",
    "\n",
    "```\n",
    "$ plot_uv.py zen.2456680.29213.xx.uv -a 1_4 --cmap=viridis\n",
    "```\n",
    "Notice how there are several frequency channels that are bright yellow for all times. These are channels with heavy RFI contamination. We'll talk about how to remove this noise in a little bit."
   ]
  },
  {
   "cell_type": "markdown",
   "metadata": {
    "collapsed": true
   },
   "source": [
    "# Activity 2: Writing Scripts\n",
    "In the previous activity, we plotted a waterfall using the `plot_uv.py` script. This implicitly handled the complicated business of processing the file and reading in the data. We're going to see how to manipulate the data, and plot the same data we did with the `plot_uv.py` script.\n",
    "\n",
    "## Sample Script\n",
    "Here we have a few lines that show roughly what students should come up with:"
   ]
  },
  {
   "cell_type": "code",
   "execution_count": 1,
   "metadata": {},
   "outputs": [
    {
     "name": "stdout",
     "output_type": "stream",
     "text": [
      "[(1, 4)]\n",
      "['xx']\n"
     ]
    },
    {
     "data": {
      "image/png": "[encoded data removed]",
      "text/plain": [
       "<matplotlib.figure.Figure at 0x10c0410d0>"
      ]
     },
     "metadata": {},
     "output_type": "display_data"
    },
    {
     "data": {
      "image/png": "[encoded data removed]",
      "text/plain": [
       "<matplotlib.figure.Figure at 0x11201c8d0>"
      ]
     },
     "metadata": {},
     "output_type": "display_data"
    }
   ],
   "source": [
    "%matplotlib inline\n",
    "import matplotlib.pyplot as plt\n",
    "import numpy as np\n",
    "import capo\n",
    "import aipy\n",
    "\n",
    "# read in data file\n",
    "# define filename\n",
    "uvfile = '/Users/plaplant/Documents/school/penn/champ/zen.2456680.29213.xx.uv'\n",
    "\n",
    "# use capo to read in a specific baseline (antenna pair) and polarization\n",
    "# the return values are t (lsts), d (a dictionary of data), and f (flags)\n",
    "t, d, f = capo.miriad.read_files([uvfile],antstr='1_4',polstr='xx')\n",
    "\n",
    "# let's understand the data dictionary a little better\n",
    "print(d.keys())\n",
    "print(d[(1,4)].keys())\n",
    "\n",
    "# d is actually a dictionary of dictionaries indexed first by baseline\n",
    "#   and then by polarization\n",
    "# since in our capo call we only included one baseline and polarization,\n",
    "#   that's all that we have\n",
    "\n",
    "# bearing in mind that visibilities are, in general, complex, let's plot\n",
    "#   the real and imaginary values\n",
    "data = np.abs(d[(1,4)]['xx'])\n",
    "dreal = data.real\n",
    "dmax = dreal.max()\n",
    "dmin = dreal.min()\n",
    "plt.imshow(dreal,aspect='auto',vmax=dmax,\n",
    "           vmin=dmin,interpolation='nearest')\n",
    "plt.colorbar(shrink=0.5)\n",
    "plt.show()\n",
    "\n",
    "dimag = data.imag\n",
    "dmax = dimag.max()\n",
    "dmin = dimag.min()\n",
    "plt.imshow(dimag,aspect='auto',vmax=dmax,\n",
    "          vmin=dmin,interpolation='nearest')\n",
    "plt.colorbar(shrink=0.5)\n",
    "plt.show()\n",
    "\n",
    "# TODO: needs a little more fiddling to look like the plot_uv.py result"
   ]
  },
  {
   "cell_type": "code",
   "execution_count": null,
   "metadata": {
    "collapsed": true
   },
   "outputs": [],
   "source": []
  }
 ],
 "metadata": {
  "kernelspec": {
   "display_name": "Python [conda env:capo]",
   "language": "python",
   "name": "conda-env-capo-py"
  },
  "language_info": {
   "codemirror_mode": {
    "name": "ipython",
    "version": 2
   },
   "file_extension": ".py",
   "mimetype": "text/x-python",
   "name": "python",
   "nbconvert_exporter": "python",
   "pygments_lexer": "ipython2",
   "version": "2.7.13"
  }
 },
 "nbformat": 4,
 "nbformat_minor": 2
}
